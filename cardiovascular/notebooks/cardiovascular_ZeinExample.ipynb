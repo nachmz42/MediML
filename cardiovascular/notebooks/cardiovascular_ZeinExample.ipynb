{
 "cells": [
  {
   "cell_type": "markdown",
   "id": "4e3b3a0e-c90b-4b00-8dac-c19d28c3c341",
   "metadata": {},
   "source": [
    "# CARDIOVASCULAR DATA SET EXPLORATION"
   ]
  },
  {
   "cell_type": "markdown",
   "id": "d0b1b327-694f-4ac6-91f0-077075c9affc",
   "metadata": {},
   "source": [
    "Imports"
   ]
  },
  {
   "cell_type": "code",
   "execution_count": 1,
   "id": "0ffb7fc9-18c3-4e87-802d-9a97bdad195e",
   "metadata": {},
   "outputs": [],
   "source": [
    "import pandas as pd\n",
    "import seaborn as sns\n",
    "import matplotlib.pyplot as plt\n",
    "from sklearn.model_selection import train_test_split, cross_validate\n",
    "from sklearn.preprocessing import StandardScaler, OneHotEncoder, OrdinalEncoder\n",
    "from sklearn.tree import DecisionTreeClassifier  \n",
    "from sklearn.svm import LinearSVC"
   ]
  },
  {
   "cell_type": "markdown",
   "id": "b51d88a8-4d3e-4efa-95f4-bbfb33e3f1e4",
   "metadata": {},
   "source": [
    "## General exploration"
   ]
  },
  {
   "cell_type": "markdown",
   "id": "58e3fb8d-df29-46d8-b826-722b0b7adff0",
   "metadata": {},
   "source": [
    "### Reading the csv file"
   ]
  },
  {
   "cell_type": "code",
   "execution_count": 2,
   "id": "ffbbec79-b6c9-4d4d-aef5-97d376aa4305",
   "metadata": {},
   "outputs": [
    {
     "ename": "NameError",
     "evalue": "name 'path' is not defined",
     "output_type": "error",
     "traceback": [
      "\u001b[0;31m---------------------------------------------------------------------------\u001b[0m",
      "\u001b[0;31mNameError\u001b[0m                                 Traceback (most recent call last)",
      "Cell \u001b[0;32mIn[2], line 3\u001b[0m\n\u001b[1;32m      1\u001b[0m \u001b[38;5;124m'\u001b[39m\u001b[38;5;124m../../raw_data/CVD_cleaned.csv\u001b[39m\u001b[38;5;124m'\u001b[39m\n\u001b[0;32m----> 3\u001b[0m data \u001b[38;5;241m=\u001b[39m pd\u001b[38;5;241m.\u001b[39mread_csv(\u001b[43mpath\u001b[49m)\n",
      "\u001b[0;31mNameError\u001b[0m: name 'path' is not defined"
     ]
    }
   ],
   "source": [
    "'../../raw_data/CVD_cleaned.csv'\n",
    "\n",
    "data = pd.read_csv(path)"
   ]
  },
  {
   "cell_type": "markdown",
   "id": "771950d0-9ed5-4aa3-9b70-9fc84d312f01",
   "metadata": {},
   "source": [
    "### Preview"
   ]
  },
  {
   "cell_type": "code",
   "execution_count": null,
   "id": "06eb71e1-0deb-4073-8a17-e5eca7526c15",
   "metadata": {
    "scrolled": true
   },
   "outputs": [],
   "source": [
    "data.head()"
   ]
  },
  {
   "cell_type": "code",
   "execution_count": null,
   "id": "b0c65d6e-3a9e-4f89-b145-ee68549f6c1c",
   "metadata": {},
   "outputs": [],
   "source": [
    "data.describe()"
   ]
  },
  {
   "cell_type": "code",
   "execution_count": null,
   "id": "0f3d9e9b-36e4-42ef-90ce-dc177a14fb12",
   "metadata": {},
   "outputs": [],
   "source": [
    "data.shape"
   ]
  },
  {
   "cell_type": "code",
   "execution_count": null,
   "id": "46349202-3d6f-4f8e-8895-d922d0fd0810",
   "metadata": {},
   "outputs": [],
   "source": [
    "data.info()"
   ]
  },
  {
   "cell_type": "markdown",
   "id": "8702ec4f-8d58-42e6-918b-cd5ef2261eea",
   "metadata": {},
   "source": [
    "### Checking if the data is cleaned"
   ]
  },
  {
   "cell_type": "markdown",
   "id": "5de56604-b32e-4ff0-b740-5c8243413ddf",
   "metadata": {},
   "source": [
    "Does the data have duplicated rows?"
   ]
  },
  {
   "cell_type": "code",
   "execution_count": null,
   "id": "ff89c6de-35ca-40e5-bde5-4b22eb0c573c",
   "metadata": {},
   "outputs": [],
   "source": [
    "data.duplicated().sum()"
   ]
  },
  {
   "cell_type": "markdown",
   "id": "af1c9b37-ccb2-44dd-84f2-5b7e390229fb",
   "metadata": {},
   "source": [
    "It looks like the data is not really cleaned so we have to do some work on it"
   ]
  },
  {
   "cell_type": "code",
   "execution_count": null,
   "id": "7d4cd3c9-2e7f-45fe-b9d9-7f18e988f9b1",
   "metadata": {},
   "outputs": [],
   "source": [
    "dirty_shape = data.shape\n",
    "\n",
    "data.drop_duplicates(inplace=True)\n",
    "\n",
    "cleaned_shape = data.shape\n",
    "\n",
    "print(f'The shape of the data with duplicated rows is {dirty_shape}')\n",
    "print(f'The shape of the data without duplicated rows is {cleaned_shape}')\n",
    "print(f'We have deleted {dirty_shape[0] - cleaned_shape[0]} rows')"
   ]
  },
  {
   "cell_type": "markdown",
   "id": "232b956d-a7cf-49dc-9212-27fb14f22d80",
   "metadata": {},
   "source": [
    "Does the data have null values?"
   ]
  },
  {
   "cell_type": "code",
   "execution_count": null,
   "id": "e02bdc86-0831-4477-93cc-c24e583d6d5a",
   "metadata": {},
   "outputs": [],
   "source": [
    "data.isnull().sum()"
   ]
  },
  {
   "cell_type": "markdown",
   "id": "c88bbdf7-344c-4551-9e66-30aa38712639",
   "metadata": {},
   "source": [
    "The data does not have null values so we can operate with it. First we are going to split the data set in categorical features and numerical features in order to explore them."
   ]
  },
  {
   "cell_type": "code",
   "execution_count": null,
   "id": "9f67dfa7-2036-43be-b3fd-36c9d3b15c68",
   "metadata": {},
   "outputs": [],
   "source": [
    "num_data = data.select_dtypes(exclude=['object'])\n",
    "cat_data = data.select_dtypes(include=['object'])"
   ]
  },
  {
   "cell_type": "markdown",
   "id": "2fbd678f-cead-4da0-a3dc-4ee9c1ef578d",
   "metadata": {},
   "source": [
    "Let's start with the numerical features"
   ]
  },
  {
   "cell_type": "code",
   "execution_count": null,
   "id": "6e194dbf-a75b-4b2c-be97-fd7bb28dbc50",
   "metadata": {},
   "outputs": [],
   "source": [
    "num_data.corr()"
   ]
  },
  {
   "cell_type": "code",
   "execution_count": null,
   "id": "0b142ccf-3b27-4d56-ac3e-77b10c174869",
   "metadata": {},
   "outputs": [],
   "source": [
    "sns.heatmap(num_data.corr())"
   ]
  },
  {
   "cell_type": "markdown",
   "id": "49d755f5-25f1-48b8-ae75-c998f25a752e",
   "metadata": {},
   "source": [
    "The Weigth and the BMI are highly correlated so we are going to drop the BMI feature and stay with the weight one, because it's more basic."
   ]
  },
  {
   "cell_type": "code",
   "execution_count": null,
   "id": "3336e15b-d3dc-4cd2-a348-76070dd51b23",
   "metadata": {},
   "outputs": [],
   "source": [
    "num_data.drop(columns=['BMI'],inplace=True)\n",
    "data.drop(columns=['BMI'],inplace=True)"
   ]
  },
  {
   "cell_type": "markdown",
   "id": "115da54b-7c8a-4559-855d-ceb89d41b1e0",
   "metadata": {},
   "source": [
    "Now let's check the categorical features and see how many unique values they have and how many of them they have."
   ]
  },
  {
   "cell_type": "code",
   "execution_count": null,
   "id": "2e62db86-ac36-41e5-9132-208de818a255",
   "metadata": {},
   "outputs": [],
   "source": [
    "cat_data.nunique()"
   ]
  },
  {
   "cell_type": "code",
   "execution_count": null,
   "id": "3f1f528e-fec7-4f10-beb8-03ab54723cc5",
   "metadata": {},
   "outputs": [],
   "source": [
    "for column in cat_data.columns:\n",
    "    print(f'{column} and its values:\\n{cat_data[column].value_counts()}')\n",
    "\n",
    "cat_data.value_counts().sum()"
   ]
  },
  {
   "cell_type": "markdown",
   "id": "bb4c1dfb-e901-48b9-881f-4d022a83917e",
   "metadata": {},
   "source": [
    "Some of the classes are unbalanced so it may be a problem when training the model"
   ]
  },
  {
   "cell_type": "code",
   "execution_count": null,
   "id": "81187a8f",
   "metadata": {},
   "outputs": [],
   "source": [
    "num_data.columns"
   ]
  },
  {
   "cell_type": "code",
   "execution_count": null,
   "id": "458173de",
   "metadata": {},
   "outputs": [],
   "source": [
    "fix,axes = plt.subplots(nrows=2,ncols=3,figsize=(15,10))\n",
    "\n",
    "for n,ax in zip(num_data.columns,axes.flat):\n",
    "    \n",
    "    ax.set_title(f\"{n}\")\n",
    "    sns.histplot(num_data[n],bins=10,ax=ax,kde=True)"
   ]
  },
  {
   "cell_type": "markdown",
   "id": "acbff65e-1191-46f3-bc88-bbd766d6dff3",
   "metadata": {},
   "source": [
    "## Preprocessing"
   ]
  },
  {
   "cell_type": "markdown",
   "id": "e81d0d01-cd20-4cf9-aeac-c078cb8118ab",
   "metadata": {},
   "source": [
    "First we process the numerical data"
   ]
  },
  {
   "cell_type": "code",
   "execution_count": null,
   "id": "bf22cef2-e51c-492d-b380-01bf093ce8a0",
   "metadata": {},
   "outputs": [],
   "source": [
    "# scaler = StandardScaler()\n",
    "# num_features = data.select_dtypes(exclude=['object']).columns\n",
    "# data[num_features] = scaler.fit_transform(data[num_features])"
   ]
  },
  {
   "cell_type": "markdown",
   "id": "c2d5a3b4-1cde-4832-a3b2-a556c395ed0f",
   "metadata": {},
   "source": [
    "First we process the categorical data with ordinal values"
   ]
  },
  {
   "cell_type": "code",
   "execution_count": null,
   "id": "75c12455-aaee-4b1c-b034-9def714f439e",
   "metadata": {},
   "outputs": [],
   "source": [
    "ordinal_features = ['General_Health','Checkup','Age_Category','Diabetes']\n",
    "dict = {}\n",
    "for column in ordinal_features:\n",
    "    dict[column] = data[column].unique()\n",
    "dict"
   ]
  },
  {
   "cell_type": "code",
   "execution_count": null,
   "id": "5265180d-0056-4c0f-be24-c3db92c6ba25",
   "metadata": {},
   "outputs": [],
   "source": [
    "general_health_sorted = ['Poor','Fair','Good','Very Good','Excellent']\n",
    "checkup_sorted = ['Never','5 or more years ago','Within the past 5 years','Within the past 2 years','Within the past year']\n",
    "diabetes_sorted = ['Yes','No, pre-diabetes or borderline diabetes','Yes, but female told only during pregnancy','No']\n",
    "age_category_sorted = ['18-24','25-29','30-34','35-39','40-44','45-49','50-54','55-59','60-64','65-69','70-74','75-79', '80+']   "
   ]
  },
  {
   "cell_type": "code",
   "execution_count": null,
   "id": "f0024b8e-613e-43fd-bf34-33c3ccc7be40",
   "metadata": {},
   "outputs": [],
   "source": [
    "data['General_Health'] = OrdinalEncoder(categories=[general_health_sorted]).fit_transform(data[['General_Health']])\n",
    "data['Checkup'] = OrdinalEncoder(categories=[checkup_sorted]).fit_transform(data[['Checkup']])\n",
    "data['Diabetes'] = OrdinalEncoder(categories=[diabetes_sorted]).fit_transform(data[['Diabetes']])\n",
    "data['Age_Category'] = OrdinalEncoder(categories=[age_category_sorted]).fit_transform(data[['Age_Category']])"
   ]
  },
  {
   "cell_type": "code",
   "execution_count": null,
   "id": "2295028b-0f5e-494d-995d-eae3ab3d6c89",
   "metadata": {},
   "outputs": [],
   "source": [
    "ohe = OneHotEncoder(drop='if_binary')\n",
    "\n",
    "not_ordinal_features = [e for e in data.select_dtypes(include=['object']) if e not in ordinal_features]\n",
    "\n",
    "ohe = OneHotEncoder(drop='if_binary', sparse=False)  # Añade 'sparse=False' para obtener una matriz densa\n",
    "transformed_features = ohe.fit_transform(data[not_ordinal_features])\n",
    "\n",
    "# Obtén los nombres de las columnas transformadas\n",
    "column_names = ohe.get_feature_names_out(input_features=not_ordinal_features)\n",
    "\n",
    "# Crear un DataFrame con las características transformadas y los nombres de las columnas\n",
    "transformed_df = pd.DataFrame(transformed_features, columns=column_names)\n",
    "\n",
    "# Elimina las características originales del DataFrame X\n",
    "data = data.drop(columns=not_ordinal_features)\n",
    "\n",
    "# Concatena el DataFrame original con el DataFrame de características transformadas\n",
    "data = pd.concat([data, transformed_df], axis=1)\n",
    "\n",
    "\n",
    "\n"
   ]
  },
  {
   "cell_type": "markdown",
   "id": "56a145d3-c10f-49a0-b259-a1cff3bcfcd9",
   "metadata": {},
   "source": [
    "Now we split the data into train, validation and test. We have a lot of data so we can select a test_size of 0.15."
   ]
  },
  {
   "cell_type": "code",
   "execution_count": null,
   "id": "fb7fa4e2-5393-44f1-8e9f-6a4e7305257c",
   "metadata": {},
   "outputs": [],
   "source": [
    "data.dropna(inplace=True)\n",
    "X = data.drop(columns=['Heart_Disease_Yes'],axis=1)\n",
    "y = data[['Heart_Disease_Yes']]\n",
    "X_train_val, X_test, y_train_val, y_test = train_test_split(X, y, test_size=0.15, random_state=42)\n",
    "\n",
    "\n",
    "\n",
    "\n",
    "y.shape"
   ]
  },
  {
   "cell_type": "code",
   "execution_count": null,
   "id": "5cbd3a66-6ac3-4ba4-b25d-d911480c7b43",
   "metadata": {},
   "outputs": [],
   "source": [
    "y"
   ]
  },
  {
   "cell_type": "code",
   "execution_count": null,
   "id": "84c1539b-ef7f-413d-87e1-fd788bf03a14",
   "metadata": {},
   "outputs": [],
   "source": [
    "X"
   ]
  },
  {
   "cell_type": "markdown",
   "id": "de47a0d3-9343-4d2c-b4a9-391adda2fe12",
   "metadata": {},
   "source": [
    "We repreat the split in order to get a validation set"
   ]
  },
  {
   "cell_type": "code",
   "execution_count": null,
   "id": "803288f7-4b6a-4467-b09d-acac024c21d6",
   "metadata": {},
   "outputs": [],
   "source": [
    "X_train, X_val, y_train, y_val = train_test_split(X_train_val, y_train_val, test_size=0.2, random_state=42)"
   ]
  },
  {
   "cell_type": "markdown",
   "id": "18ec4a5d-39e2-4906-8210-dd5c8dfbd1a1",
   "metadata": {},
   "source": [
    "The date has been minimally preprocesed so we can try a model now"
   ]
  },
  {
   "cell_type": "code",
   "execution_count": null,
   "id": "fb301beb-200e-4cd5-a666-6a3fd9e2ffb2",
   "metadata": {},
   "outputs": [],
   "source": [
    "clf = DecisionTreeClassifier(max_depth=5, min_samples_split=2, min_samples_leaf=1)"
   ]
  },
  {
   "cell_type": "code",
   "execution_count": null,
   "id": "915ac475-6627-4bec-aa49-ab3abc32d34c",
   "metadata": {},
   "outputs": [],
   "source": [
    "scoring = ['accuracy', 'precision', 'recall', 'f1', 'roc_auc']\n",
    "scores = cross_validate(clf, X_train, y_train, scoring=scoring, cv=5)"
   ]
  },
  {
   "cell_type": "code",
   "execution_count": null,
   "id": "fc6163dc-0533-4fce-942c-39fc64ed953c",
   "metadata": {},
   "outputs": [],
   "source": [
    "scores\n"
   ]
  },
  {
   "cell_type": "code",
   "execution_count": null,
   "id": "546deeec-abd1-48ce-a24b-783e2ece26e2",
   "metadata": {},
   "outputs": [],
   "source": [
    "clf.fit(X_train,y_train)"
   ]
  },
  {
   "cell_type": "code",
   "execution_count": null,
   "id": "9c3cdc4e-f8aa-478d-903d-6b60fd974b3f",
   "metadata": {},
   "outputs": [],
   "source": [
    "y_val_pred = pd.DataFrame(pd.Series(clf.predict(X_val),name='Heart_Disease_Yes'))"
   ]
  },
  {
   "cell_type": "code",
   "execution_count": null,
   "id": "4f1a36ec-2242-462e-85ab-658e1e56dac4",
   "metadata": {},
   "outputs": [],
   "source": [
    "y_val_pred"
   ]
  },
  {
   "cell_type": "code",
   "execution_count": null,
   "id": "93d0352b-14cf-4025-80df-38b1d8cfed9c",
   "metadata": {},
   "outputs": [],
   "source": [
    "y_val.reset_index(inplace=True,drop=True)"
   ]
  },
  {
   "cell_type": "code",
   "execution_count": null,
   "id": "097f4cea-76f9-423f-913d-5ebc1cd30d1a",
   "metadata": {},
   "outputs": [],
   "source": [
    "type(y_val)"
   ]
  },
  {
   "cell_type": "code",
   "execution_count": null,
   "id": "22b2bb98-dbd7-41cd-adf6-0dab0d8f96e8",
   "metadata": {},
   "outputs": [],
   "source": [
    "# Realiza una comparación elemento a elemento y obtén una serie booleana que indica las diferencias\n",
    "diferencias = y_val_pred != y_val\n",
    "\n",
    "# Cuenta el número de True en la serie de diferencias para obtener la cantidad de datos diferentes\n",
    "cantidad_diferentes = diferencias.sum()"
   ]
  },
  {
   "cell_type": "code",
   "execution_count": null,
   "id": "e4c8e415-b7c7-4829-b1e2-4c2d5e14780d",
   "metadata": {},
   "outputs": [],
   "source": [
    "cantidad_diferentes"
   ]
  }
 ],
 "metadata": {
  "kernelspec": {
   "display_name": "Python 3 (ipykernel)",
   "language": "python",
   "name": "python3"
  },
  "language_info": {
   "codemirror_mode": {
    "name": "ipython",
    "version": 3
   },
   "file_extension": ".py",
   "mimetype": "text/x-python",
   "name": "python",
   "nbconvert_exporter": "python",
   "pygments_lexer": "ipython3",
   "version": "3.10.6"
  },
  "toc": {
   "base_numbering": 1,
   "nav_menu": {},
   "number_sections": true,
   "sideBar": true,
   "skip_h1_title": false,
   "title_cell": "Table of Contents",
   "title_sidebar": "Contents",
   "toc_cell": false,
   "toc_position": {},
   "toc_section_display": true,
   "toc_window_display": false
  }
 },
 "nbformat": 4,
 "nbformat_minor": 5
}
