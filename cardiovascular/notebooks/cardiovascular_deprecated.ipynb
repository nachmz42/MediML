{
 "cells": [
  {
   "cell_type": "markdown",
   "id": "4e3b3a0e-c90b-4b00-8dac-c19d28c3c341",
   "metadata": {},
   "source": [
    "# CARDIOVASCULAR DATA SET EXPLORATION"
   ]
  },
  {
   "cell_type": "markdown",
   "id": "d0b1b327-694f-4ac6-91f0-077075c9affc",
   "metadata": {},
   "source": [
    "Imports"
   ]
  },
  {
   "cell_type": "code",
   "execution_count": 1,
   "id": "0ffb7fc9-18c3-4e87-802d-9a97bdad195e",
   "metadata": {},
   "outputs": [],
   "source": [
    "import pandas as pd\n",
    "import seaborn as sns\n",
    "import matplotlib.pyplot as plt\n",
    "from sklearn.model_selection import train_test_split, cross_validate\n",
    "from sklearn.preprocessing import StandardScaler, OneHotEncoder, OrdinalEncoder\n",
    "from sklearn.tree import DecisionTreeClassifier  \n",
    "from sklearn.svm import LinearSVC"
   ]
  },
  {
   "cell_type": "markdown",
   "id": "b51d88a8-4d3e-4efa-95f4-bbfb33e3f1e4",
   "metadata": {},
   "source": [
    "## General exploration"
   ]
  },
  {
   "cell_type": "markdown",
   "id": "58e3fb8d-df29-46d8-b826-722b0b7adff0",
   "metadata": {},
   "source": [
    "### Reading the csv file"
   ]
  },
  {
   "cell_type": "code",
   "execution_count": 2,
   "id": "ffbbec79-b6c9-4d4d-aef5-97d376aa4305",
   "metadata": {},
   "outputs": [],
   "source": [
    "path = '../../raw_data/CVD_cleaned.csv'\n",
    "\n",
    "data = pd.read_csv(path)"
   ]
  },
  {
   "cell_type": "markdown",
   "id": "771950d0-9ed5-4aa3-9b70-9fc84d312f01",
   "metadata": {},
   "source": [
    "### Preview"
   ]
  },
  {
   "cell_type": "code",
   "execution_count": 3,
   "id": "06eb71e1-0deb-4073-8a17-e5eca7526c15",
   "metadata": {
    "scrolled": true
   },
   "outputs": [
    {
     "data": {
      "text/html": [
       "<div>\n",
       "<style scoped>\n",
       "    .dataframe tbody tr th:only-of-type {\n",
       "        vertical-align: middle;\n",
       "    }\n",
       "\n",
       "    .dataframe tbody tr th {\n",
       "        vertical-align: top;\n",
       "    }\n",
       "\n",
       "    .dataframe thead th {\n",
       "        text-align: right;\n",
       "    }\n",
       "</style>\n",
       "<table border=\"1\" class=\"dataframe\">\n",
       "  <thead>\n",
       "    <tr style=\"text-align: right;\">\n",
       "      <th></th>\n",
       "      <th>General_Health</th>\n",
       "      <th>Checkup</th>\n",
       "      <th>Exercise</th>\n",
       "      <th>Heart_Disease</th>\n",
       "      <th>Skin_Cancer</th>\n",
       "      <th>Other_Cancer</th>\n",
       "      <th>Depression</th>\n",
       "      <th>Diabetes</th>\n",
       "      <th>Arthritis</th>\n",
       "      <th>Sex</th>\n",
       "      <th>Age_Category</th>\n",
       "      <th>Height_(cm)</th>\n",
       "      <th>Weight_(kg)</th>\n",
       "      <th>BMI</th>\n",
       "      <th>Smoking_History</th>\n",
       "      <th>Alcohol_Consumption</th>\n",
       "      <th>Fruit_Consumption</th>\n",
       "      <th>Green_Vegetables_Consumption</th>\n",
       "      <th>FriedPotato_Consumption</th>\n",
       "    </tr>\n",
       "  </thead>\n",
       "  <tbody>\n",
       "    <tr>\n",
       "      <th>0</th>\n",
       "      <td>Poor</td>\n",
       "      <td>Within the past 2 years</td>\n",
       "      <td>No</td>\n",
       "      <td>No</td>\n",
       "      <td>No</td>\n",
       "      <td>No</td>\n",
       "      <td>No</td>\n",
       "      <td>No</td>\n",
       "      <td>Yes</td>\n",
       "      <td>Female</td>\n",
       "      <td>70-74</td>\n",
       "      <td>150.0</td>\n",
       "      <td>32.66</td>\n",
       "      <td>14.54</td>\n",
       "      <td>Yes</td>\n",
       "      <td>0.0</td>\n",
       "      <td>30.0</td>\n",
       "      <td>16.0</td>\n",
       "      <td>12.0</td>\n",
       "    </tr>\n",
       "    <tr>\n",
       "      <th>1</th>\n",
       "      <td>Very Good</td>\n",
       "      <td>Within the past year</td>\n",
       "      <td>No</td>\n",
       "      <td>Yes</td>\n",
       "      <td>No</td>\n",
       "      <td>No</td>\n",
       "      <td>No</td>\n",
       "      <td>Yes</td>\n",
       "      <td>No</td>\n",
       "      <td>Female</td>\n",
       "      <td>70-74</td>\n",
       "      <td>165.0</td>\n",
       "      <td>77.11</td>\n",
       "      <td>28.29</td>\n",
       "      <td>No</td>\n",
       "      <td>0.0</td>\n",
       "      <td>30.0</td>\n",
       "      <td>0.0</td>\n",
       "      <td>4.0</td>\n",
       "    </tr>\n",
       "    <tr>\n",
       "      <th>2</th>\n",
       "      <td>Very Good</td>\n",
       "      <td>Within the past year</td>\n",
       "      <td>Yes</td>\n",
       "      <td>No</td>\n",
       "      <td>No</td>\n",
       "      <td>No</td>\n",
       "      <td>No</td>\n",
       "      <td>Yes</td>\n",
       "      <td>No</td>\n",
       "      <td>Female</td>\n",
       "      <td>60-64</td>\n",
       "      <td>163.0</td>\n",
       "      <td>88.45</td>\n",
       "      <td>33.47</td>\n",
       "      <td>No</td>\n",
       "      <td>4.0</td>\n",
       "      <td>12.0</td>\n",
       "      <td>3.0</td>\n",
       "      <td>16.0</td>\n",
       "    </tr>\n",
       "    <tr>\n",
       "      <th>3</th>\n",
       "      <td>Poor</td>\n",
       "      <td>Within the past year</td>\n",
       "      <td>Yes</td>\n",
       "      <td>Yes</td>\n",
       "      <td>No</td>\n",
       "      <td>No</td>\n",
       "      <td>No</td>\n",
       "      <td>Yes</td>\n",
       "      <td>No</td>\n",
       "      <td>Male</td>\n",
       "      <td>75-79</td>\n",
       "      <td>180.0</td>\n",
       "      <td>93.44</td>\n",
       "      <td>28.73</td>\n",
       "      <td>No</td>\n",
       "      <td>0.0</td>\n",
       "      <td>30.0</td>\n",
       "      <td>30.0</td>\n",
       "      <td>8.0</td>\n",
       "    </tr>\n",
       "    <tr>\n",
       "      <th>4</th>\n",
       "      <td>Good</td>\n",
       "      <td>Within the past year</td>\n",
       "      <td>No</td>\n",
       "      <td>No</td>\n",
       "      <td>No</td>\n",
       "      <td>No</td>\n",
       "      <td>No</td>\n",
       "      <td>No</td>\n",
       "      <td>No</td>\n",
       "      <td>Male</td>\n",
       "      <td>80+</td>\n",
       "      <td>191.0</td>\n",
       "      <td>88.45</td>\n",
       "      <td>24.37</td>\n",
       "      <td>Yes</td>\n",
       "      <td>0.0</td>\n",
       "      <td>8.0</td>\n",
       "      <td>4.0</td>\n",
       "      <td>0.0</td>\n",
       "    </tr>\n",
       "  </tbody>\n",
       "</table>\n",
       "</div>"
      ],
      "text/plain": [
       "  General_Health                  Checkup Exercise Heart_Disease Skin_Cancer  \\\n",
       "0           Poor  Within the past 2 years       No            No          No   \n",
       "1      Very Good     Within the past year       No           Yes          No   \n",
       "2      Very Good     Within the past year      Yes            No          No   \n",
       "3           Poor     Within the past year      Yes           Yes          No   \n",
       "4           Good     Within the past year       No            No          No   \n",
       "\n",
       "  Other_Cancer Depression Diabetes Arthritis     Sex Age_Category  \\\n",
       "0           No         No       No       Yes  Female        70-74   \n",
       "1           No         No      Yes        No  Female        70-74   \n",
       "2           No         No      Yes        No  Female        60-64   \n",
       "3           No         No      Yes        No    Male        75-79   \n",
       "4           No         No       No        No    Male          80+   \n",
       "\n",
       "   Height_(cm)  Weight_(kg)    BMI Smoking_History  Alcohol_Consumption  \\\n",
       "0        150.0        32.66  14.54             Yes                  0.0   \n",
       "1        165.0        77.11  28.29              No                  0.0   \n",
       "2        163.0        88.45  33.47              No                  4.0   \n",
       "3        180.0        93.44  28.73              No                  0.0   \n",
       "4        191.0        88.45  24.37             Yes                  0.0   \n",
       "\n",
       "   Fruit_Consumption  Green_Vegetables_Consumption  FriedPotato_Consumption  \n",
       "0               30.0                          16.0                     12.0  \n",
       "1               30.0                           0.0                      4.0  \n",
       "2               12.0                           3.0                     16.0  \n",
       "3               30.0                          30.0                      8.0  \n",
       "4                8.0                           4.0                      0.0  "
      ]
     },
     "execution_count": 3,
     "metadata": {},
     "output_type": "execute_result"
    }
   ],
   "source": [
    "data.head()"
   ]
  },
  {
   "cell_type": "code",
   "execution_count": 4,
   "id": "b0c65d6e-3a9e-4f89-b145-ee68549f6c1c",
   "metadata": {},
   "outputs": [
    {
     "data": {
      "text/html": [
       "<div>\n",
       "<style scoped>\n",
       "    .dataframe tbody tr th:only-of-type {\n",
       "        vertical-align: middle;\n",
       "    }\n",
       "\n",
       "    .dataframe tbody tr th {\n",
       "        vertical-align: top;\n",
       "    }\n",
       "\n",
       "    .dataframe thead th {\n",
       "        text-align: right;\n",
       "    }\n",
       "</style>\n",
       "<table border=\"1\" class=\"dataframe\">\n",
       "  <thead>\n",
       "    <tr style=\"text-align: right;\">\n",
       "      <th></th>\n",
       "      <th>Height_(cm)</th>\n",
       "      <th>Weight_(kg)</th>\n",
       "      <th>BMI</th>\n",
       "      <th>Alcohol_Consumption</th>\n",
       "      <th>Fruit_Consumption</th>\n",
       "      <th>Green_Vegetables_Consumption</th>\n",
       "      <th>FriedPotato_Consumption</th>\n",
       "    </tr>\n",
       "  </thead>\n",
       "  <tbody>\n",
       "    <tr>\n",
       "      <th>count</th>\n",
       "      <td>308854.000000</td>\n",
       "      <td>308854.000000</td>\n",
       "      <td>308854.000000</td>\n",
       "      <td>308854.000000</td>\n",
       "      <td>308854.000000</td>\n",
       "      <td>308854.000000</td>\n",
       "      <td>308854.000000</td>\n",
       "    </tr>\n",
       "    <tr>\n",
       "      <th>mean</th>\n",
       "      <td>170.615249</td>\n",
       "      <td>83.588655</td>\n",
       "      <td>28.626211</td>\n",
       "      <td>5.096366</td>\n",
       "      <td>29.835200</td>\n",
       "      <td>15.110441</td>\n",
       "      <td>6.296616</td>\n",
       "    </tr>\n",
       "    <tr>\n",
       "      <th>std</th>\n",
       "      <td>10.658026</td>\n",
       "      <td>21.343210</td>\n",
       "      <td>6.522323</td>\n",
       "      <td>8.199763</td>\n",
       "      <td>24.875735</td>\n",
       "      <td>14.926238</td>\n",
       "      <td>8.582954</td>\n",
       "    </tr>\n",
       "    <tr>\n",
       "      <th>min</th>\n",
       "      <td>91.000000</td>\n",
       "      <td>24.950000</td>\n",
       "      <td>12.020000</td>\n",
       "      <td>0.000000</td>\n",
       "      <td>0.000000</td>\n",
       "      <td>0.000000</td>\n",
       "      <td>0.000000</td>\n",
       "    </tr>\n",
       "    <tr>\n",
       "      <th>25%</th>\n",
       "      <td>163.000000</td>\n",
       "      <td>68.040000</td>\n",
       "      <td>24.210000</td>\n",
       "      <td>0.000000</td>\n",
       "      <td>12.000000</td>\n",
       "      <td>4.000000</td>\n",
       "      <td>2.000000</td>\n",
       "    </tr>\n",
       "    <tr>\n",
       "      <th>50%</th>\n",
       "      <td>170.000000</td>\n",
       "      <td>81.650000</td>\n",
       "      <td>27.440000</td>\n",
       "      <td>1.000000</td>\n",
       "      <td>30.000000</td>\n",
       "      <td>12.000000</td>\n",
       "      <td>4.000000</td>\n",
       "    </tr>\n",
       "    <tr>\n",
       "      <th>75%</th>\n",
       "      <td>178.000000</td>\n",
       "      <td>95.250000</td>\n",
       "      <td>31.850000</td>\n",
       "      <td>6.000000</td>\n",
       "      <td>30.000000</td>\n",
       "      <td>20.000000</td>\n",
       "      <td>8.000000</td>\n",
       "    </tr>\n",
       "    <tr>\n",
       "      <th>max</th>\n",
       "      <td>241.000000</td>\n",
       "      <td>293.020000</td>\n",
       "      <td>99.330000</td>\n",
       "      <td>30.000000</td>\n",
       "      <td>120.000000</td>\n",
       "      <td>128.000000</td>\n",
       "      <td>128.000000</td>\n",
       "    </tr>\n",
       "  </tbody>\n",
       "</table>\n",
       "</div>"
      ],
      "text/plain": [
       "         Height_(cm)    Weight_(kg)            BMI  Alcohol_Consumption  \\\n",
       "count  308854.000000  308854.000000  308854.000000        308854.000000   \n",
       "mean      170.615249      83.588655      28.626211             5.096366   \n",
       "std        10.658026      21.343210       6.522323             8.199763   \n",
       "min        91.000000      24.950000      12.020000             0.000000   \n",
       "25%       163.000000      68.040000      24.210000             0.000000   \n",
       "50%       170.000000      81.650000      27.440000             1.000000   \n",
       "75%       178.000000      95.250000      31.850000             6.000000   \n",
       "max       241.000000     293.020000      99.330000            30.000000   \n",
       "\n",
       "       Fruit_Consumption  Green_Vegetables_Consumption  \\\n",
       "count      308854.000000                 308854.000000   \n",
       "mean           29.835200                     15.110441   \n",
       "std            24.875735                     14.926238   \n",
       "min             0.000000                      0.000000   \n",
       "25%            12.000000                      4.000000   \n",
       "50%            30.000000                     12.000000   \n",
       "75%            30.000000                     20.000000   \n",
       "max           120.000000                    128.000000   \n",
       "\n",
       "       FriedPotato_Consumption  \n",
       "count            308854.000000  \n",
       "mean                  6.296616  \n",
       "std                   8.582954  \n",
       "min                   0.000000  \n",
       "25%                   2.000000  \n",
       "50%                   4.000000  \n",
       "75%                   8.000000  \n",
       "max                 128.000000  "
      ]
     },
     "execution_count": 4,
     "metadata": {},
     "output_type": "execute_result"
    }
   ],
   "source": [
    "data.describe()"
   ]
  },
  {
   "cell_type": "code",
   "execution_count": 5,
   "id": "0f3d9e9b-36e4-42ef-90ce-dc177a14fb12",
   "metadata": {},
   "outputs": [
    {
     "data": {
      "text/plain": [
       "(308854, 19)"
      ]
     },
     "execution_count": 5,
     "metadata": {},
     "output_type": "execute_result"
    }
   ],
   "source": [
    "data.shape"
   ]
  },
  {
   "cell_type": "code",
   "execution_count": 6,
   "id": "46349202-3d6f-4f8e-8895-d922d0fd0810",
   "metadata": {},
   "outputs": [
    {
     "name": "stdout",
     "output_type": "stream",
     "text": [
      "<class 'pandas.core.frame.DataFrame'>\n",
      "RangeIndex: 308854 entries, 0 to 308853\n",
      "Data columns (total 19 columns):\n",
      " #   Column                        Non-Null Count   Dtype  \n",
      "---  ------                        --------------   -----  \n",
      " 0   General_Health                308854 non-null  object \n",
      " 1   Checkup                       308854 non-null  object \n",
      " 2   Exercise                      308854 non-null  object \n",
      " 3   Heart_Disease                 308854 non-null  object \n",
      " 4   Skin_Cancer                   308854 non-null  object \n",
      " 5   Other_Cancer                  308854 non-null  object \n",
      " 6   Depression                    308854 non-null  object \n",
      " 7   Diabetes                      308854 non-null  object \n",
      " 8   Arthritis                     308854 non-null  object \n",
      " 9   Sex                           308854 non-null  object \n",
      " 10  Age_Category                  308854 non-null  object \n",
      " 11  Height_(cm)                   308854 non-null  float64\n",
      " 12  Weight_(kg)                   308854 non-null  float64\n",
      " 13  BMI                           308854 non-null  float64\n",
      " 14  Smoking_History               308854 non-null  object \n",
      " 15  Alcohol_Consumption           308854 non-null  float64\n",
      " 16  Fruit_Consumption             308854 non-null  float64\n",
      " 17  Green_Vegetables_Consumption  308854 non-null  float64\n",
      " 18  FriedPotato_Consumption       308854 non-null  float64\n",
      "dtypes: float64(7), object(12)\n",
      "memory usage: 44.8+ MB\n"
     ]
    }
   ],
   "source": [
    "data.info()"
   ]
  },
  {
   "cell_type": "markdown",
   "id": "8702ec4f-8d58-42e6-918b-cd5ef2261eea",
   "metadata": {},
   "source": [
    "### Checking if the data is cleaned"
   ]
  },
  {
   "cell_type": "markdown",
   "id": "5de56604-b32e-4ff0-b740-5c8243413ddf",
   "metadata": {},
   "source": [
    "Does the data have duplicated rows?"
   ]
  },
  {
   "cell_type": "code",
   "execution_count": 7,
   "id": "ff89c6de-35ca-40e5-bde5-4b22eb0c573c",
   "metadata": {},
   "outputs": [
    {
     "data": {
      "text/plain": [
       "80"
      ]
     },
     "execution_count": 7,
     "metadata": {},
     "output_type": "execute_result"
    }
   ],
   "source": [
    "data.duplicated().sum()"
   ]
  },
  {
   "cell_type": "markdown",
   "id": "af1c9b37-ccb2-44dd-84f2-5b7e390229fb",
   "metadata": {},
   "source": [
    "It looks like the data is not really cleaned so we have to do some work on it"
   ]
  },
  {
   "cell_type": "code",
   "execution_count": 8,
   "id": "7d4cd3c9-2e7f-45fe-b9d9-7f18e988f9b1",
   "metadata": {},
   "outputs": [
    {
     "name": "stdout",
     "output_type": "stream",
     "text": [
      "The shape of the data with duplicated rows is (308854, 19)\n",
      "The shape of the data without duplicated rows is (308774, 19)\n",
      "We have deleted 80 rows\n"
     ]
    }
   ],
   "source": [
    "dirty_shape = data.shape\n",
    "\n",
    "data.drop_duplicates(inplace=True)\n",
    "\n",
    "cleaned_shape = data.shape\n",
    "\n",
    "print(f'The shape of the data with duplicated rows is {dirty_shape}')\n",
    "print(f'The shape of the data without duplicated rows is {cleaned_shape}')\n",
    "print(f'We have deleted {dirty_shape[0] - cleaned_shape[0]} rows')"
   ]
  },
  {
   "cell_type": "markdown",
   "id": "232b956d-a7cf-49dc-9212-27fb14f22d80",
   "metadata": {},
   "source": [
    "Does the data have null values?"
   ]
  },
  {
   "cell_type": "code",
   "execution_count": 9,
   "id": "e02bdc86-0831-4477-93cc-c24e583d6d5a",
   "metadata": {},
   "outputs": [
    {
     "data": {
      "text/plain": [
       "General_Health                  0\n",
       "Checkup                         0\n",
       "Exercise                        0\n",
       "Heart_Disease                   0\n",
       "Skin_Cancer                     0\n",
       "Other_Cancer                    0\n",
       "Depression                      0\n",
       "Diabetes                        0\n",
       "Arthritis                       0\n",
       "Sex                             0\n",
       "Age_Category                    0\n",
       "Height_(cm)                     0\n",
       "Weight_(kg)                     0\n",
       "BMI                             0\n",
       "Smoking_History                 0\n",
       "Alcohol_Consumption             0\n",
       "Fruit_Consumption               0\n",
       "Green_Vegetables_Consumption    0\n",
       "FriedPotato_Consumption         0\n",
       "dtype: int64"
      ]
     },
     "execution_count": 9,
     "metadata": {},
     "output_type": "execute_result"
    }
   ],
   "source": [
    "data.isnull().sum()"
   ]
  },
  {
   "cell_type": "markdown",
   "id": "c88bbdf7-344c-4551-9e66-30aa38712639",
   "metadata": {},
   "source": [
    "The data does not have null values so we can operate with it. First we are going to split the data set in categorical features and numerical features in order to explore them."
   ]
  },
  {
   "cell_type": "code",
   "execution_count": 10,
   "id": "9f67dfa7-2036-43be-b3fd-36c9d3b15c68",
   "metadata": {},
   "outputs": [],
   "source": [
    "num_data = data.select_dtypes(exclude=['object'])\n",
    "cat_data = data.select_dtypes(include=['object'])"
   ]
  },
  {
   "cell_type": "markdown",
   "id": "2fbd678f-cead-4da0-a3dc-4ee9c1ef578d",
   "metadata": {},
   "source": [
    "Let's start with the numerical features"
   ]
  },
  {
   "cell_type": "code",
   "execution_count": 11,
   "id": "6e194dbf-a75b-4b2c-be97-fd7bb28dbc50",
   "metadata": {},
   "outputs": [
    {
     "data": {
      "text/html": [
       "<div>\n",
       "<style scoped>\n",
       "    .dataframe tbody tr th:only-of-type {\n",
       "        vertical-align: middle;\n",
       "    }\n",
       "\n",
       "    .dataframe tbody tr th {\n",
       "        vertical-align: top;\n",
       "    }\n",
       "\n",
       "    .dataframe thead th {\n",
       "        text-align: right;\n",
       "    }\n",
       "</style>\n",
       "<table border=\"1\" class=\"dataframe\">\n",
       "  <thead>\n",
       "    <tr style=\"text-align: right;\">\n",
       "      <th></th>\n",
       "      <th>Height_(cm)</th>\n",
       "      <th>Weight_(kg)</th>\n",
       "      <th>BMI</th>\n",
       "      <th>Alcohol_Consumption</th>\n",
       "      <th>Fruit_Consumption</th>\n",
       "      <th>Green_Vegetables_Consumption</th>\n",
       "      <th>FriedPotato_Consumption</th>\n",
       "    </tr>\n",
       "  </thead>\n",
       "  <tbody>\n",
       "    <tr>\n",
       "      <th>Height_(cm)</th>\n",
       "      <td>1.000000</td>\n",
       "      <td>0.472175</td>\n",
       "      <td>-0.027413</td>\n",
       "      <td>0.128850</td>\n",
       "      <td>-0.045925</td>\n",
       "      <td>-0.030153</td>\n",
       "      <td>0.108790</td>\n",
       "    </tr>\n",
       "    <tr>\n",
       "      <th>Weight_(kg)</th>\n",
       "      <td>0.472175</td>\n",
       "      <td>1.000000</td>\n",
       "      <td>0.859702</td>\n",
       "      <td>-0.032427</td>\n",
       "      <td>-0.090611</td>\n",
       "      <td>-0.075895</td>\n",
       "      <td>0.096327</td>\n",
       "    </tr>\n",
       "    <tr>\n",
       "      <th>BMI</th>\n",
       "      <td>-0.027413</td>\n",
       "      <td>0.859702</td>\n",
       "      <td>1.000000</td>\n",
       "      <td>-0.108750</td>\n",
       "      <td>-0.076603</td>\n",
       "      <td>-0.070629</td>\n",
       "      <td>0.048343</td>\n",
       "    </tr>\n",
       "    <tr>\n",
       "      <th>Alcohol_Consumption</th>\n",
       "      <td>0.128850</td>\n",
       "      <td>-0.032427</td>\n",
       "      <td>-0.108750</td>\n",
       "      <td>1.000000</td>\n",
       "      <td>-0.012542</td>\n",
       "      <td>0.060088</td>\n",
       "      <td>0.020503</td>\n",
       "    </tr>\n",
       "    <tr>\n",
       "      <th>Fruit_Consumption</th>\n",
       "      <td>-0.045925</td>\n",
       "      <td>-0.090611</td>\n",
       "      <td>-0.076603</td>\n",
       "      <td>-0.012542</td>\n",
       "      <td>1.000000</td>\n",
       "      <td>0.270426</td>\n",
       "      <td>-0.060302</td>\n",
       "    </tr>\n",
       "    <tr>\n",
       "      <th>Green_Vegetables_Consumption</th>\n",
       "      <td>-0.030153</td>\n",
       "      <td>-0.075895</td>\n",
       "      <td>-0.070629</td>\n",
       "      <td>0.060088</td>\n",
       "      <td>0.270426</td>\n",
       "      <td>1.000000</td>\n",
       "      <td>0.003209</td>\n",
       "    </tr>\n",
       "    <tr>\n",
       "      <th>FriedPotato_Consumption</th>\n",
       "      <td>0.108790</td>\n",
       "      <td>0.096327</td>\n",
       "      <td>0.048343</td>\n",
       "      <td>0.020503</td>\n",
       "      <td>-0.060302</td>\n",
       "      <td>0.003209</td>\n",
       "      <td>1.000000</td>\n",
       "    </tr>\n",
       "  </tbody>\n",
       "</table>\n",
       "</div>"
      ],
      "text/plain": [
       "                              Height_(cm)  Weight_(kg)       BMI  \\\n",
       "Height_(cm)                      1.000000     0.472175 -0.027413   \n",
       "Weight_(kg)                      0.472175     1.000000  0.859702   \n",
       "BMI                             -0.027413     0.859702  1.000000   \n",
       "Alcohol_Consumption              0.128850    -0.032427 -0.108750   \n",
       "Fruit_Consumption               -0.045925    -0.090611 -0.076603   \n",
       "Green_Vegetables_Consumption    -0.030153    -0.075895 -0.070629   \n",
       "FriedPotato_Consumption          0.108790     0.096327  0.048343   \n",
       "\n",
       "                              Alcohol_Consumption  Fruit_Consumption  \\\n",
       "Height_(cm)                              0.128850          -0.045925   \n",
       "Weight_(kg)                             -0.032427          -0.090611   \n",
       "BMI                                     -0.108750          -0.076603   \n",
       "Alcohol_Consumption                      1.000000          -0.012542   \n",
       "Fruit_Consumption                       -0.012542           1.000000   \n",
       "Green_Vegetables_Consumption             0.060088           0.270426   \n",
       "FriedPotato_Consumption                  0.020503          -0.060302   \n",
       "\n",
       "                              Green_Vegetables_Consumption  \\\n",
       "Height_(cm)                                      -0.030153   \n",
       "Weight_(kg)                                      -0.075895   \n",
       "BMI                                              -0.070629   \n",
       "Alcohol_Consumption                               0.060088   \n",
       "Fruit_Consumption                                 0.270426   \n",
       "Green_Vegetables_Consumption                      1.000000   \n",
       "FriedPotato_Consumption                           0.003209   \n",
       "\n",
       "                              FriedPotato_Consumption  \n",
       "Height_(cm)                                  0.108790  \n",
       "Weight_(kg)                                  0.096327  \n",
       "BMI                                          0.048343  \n",
       "Alcohol_Consumption                          0.020503  \n",
       "Fruit_Consumption                           -0.060302  \n",
       "Green_Vegetables_Consumption                 0.003209  \n",
       "FriedPotato_Consumption                      1.000000  "
      ]
     },
     "execution_count": 11,
     "metadata": {},
     "output_type": "execute_result"
    }
   ],
   "source": [
    "num_data.corr()"
   ]
  },
  {
   "cell_type": "code",
   "execution_count": 12,
   "id": "0b142ccf-3b27-4d56-ac3e-77b10c174869",
   "metadata": {},
   "outputs": [
    {
     "data": {
      "text/plain": [
       "<Axes: >"
      ]
     },
     "execution_count": 12,
     "metadata": {},
     "output_type": "execute_result"
    },
    {
     "data": {
      "image/png": "[encoded data removed]",
      "text/plain": [
       "<Figure size 640x480 with 2 Axes>"
      ]
     },
     "metadata": {},
     "output_type": "display_data"
    }
   ],
   "source": [
    "sns.heatmap(num_data.corr())"
   ]
  },
  {
   "cell_type": "markdown",
   "id": "49d755f5-25f1-48b8-ae75-c998f25a752e",
   "metadata": {},
   "source": [
    "The Weigth and the BMI are highly correlated so we are going to drop the BMI feature and stay with the weight one, because it's more basic."
   ]
  },
  {
   "cell_type": "code",
   "execution_count": 13,
   "id": "3336e15b-d3dc-4cd2-a348-76070dd51b23",
   "metadata": {},
   "outputs": [],
   "source": [
    "num_data.drop(columns=['BMI'],inplace=True)\n",
    "data.drop(columns=['BMI'],inplace=True)"
   ]
  },
  {
   "cell_type": "markdown",
   "id": "115da54b-7c8a-4559-855d-ceb89d41b1e0",
   "metadata": {},
   "source": [
    "Now let's check the categorical features and see how many unique values they have and how many of them they have."
   ]
  },
  {
   "cell_type": "code",
   "execution_count": 14,
   "id": "2e62db86-ac36-41e5-9132-208de818a255",
   "metadata": {},
   "outputs": [
    {
     "data": {
      "text/plain": [
       "General_Health      5\n",
       "Checkup             5\n",
       "Exercise            2\n",
       "Heart_Disease       2\n",
       "Skin_Cancer         2\n",
       "Other_Cancer        2\n",
       "Depression          2\n",
       "Diabetes            4\n",
       "Arthritis           2\n",
       "Sex                 2\n",
       "Age_Category       13\n",
       "Smoking_History     2\n",
       "dtype: int64"
      ]
     },
     "execution_count": 14,
     "metadata": {},
     "output_type": "execute_result"
    }
   ],
   "source": [
    "cat_data.nunique()"
   ]
  },
  {
   "cell_type": "code",
   "execution_count": 15,
   "id": "3f1f528e-fec7-4f10-beb8-03ab54723cc5",
   "metadata": {},
   "outputs": [
    {
     "name": "stdout",
     "output_type": "stream",
     "text": [
      "General_Health and its values:\n",
      "General_Health\n",
      "Very Good    110351\n",
      "Good          95355\n",
      "Excellent     55929\n",
      "Fair          35808\n",
      "Poor          11331\n",
      "Name: count, dtype: int64\n",
      "Checkup and its values:\n",
      "Checkup\n",
      "Within the past year       239295\n",
      "Within the past 2 years     37210\n",
      "Within the past 5 years     17442\n",
      "5 or more years ago         13420\n",
      "Never                        1407\n",
      "Name: count, dtype: int64\n",
      "Exercise and its values:\n",
      "Exercise\n",
      "Yes    239305\n",
      "No      69469\n",
      "Name: count, dtype: int64\n",
      "Heart_Disease and its values:\n",
      "Heart_Disease\n",
      "No     283803\n",
      "Yes     24971\n",
      "Name: count, dtype: int64\n",
      "Skin_Cancer and its values:\n",
      "Skin_Cancer\n",
      "No     278782\n",
      "Yes     29992\n",
      "Name: count, dtype: int64\n",
      "Other_Cancer and its values:\n",
      "Other_Cancer\n",
      "No     278897\n",
      "Yes     29877\n",
      "Name: count, dtype: int64\n",
      "Depression and its values:\n",
      "Depression\n",
      "No     246875\n",
      "Yes     61899\n",
      "Name: count, dtype: int64\n",
      "Diabetes and its values:\n",
      "Diabetes\n",
      "No                                            259062\n",
      "Yes                                            40170\n",
      "No, pre-diabetes or borderline diabetes         6896\n",
      "Yes, but female told only during pregnancy      2646\n",
      "Name: count, dtype: int64\n",
      "Arthritis and its values:\n",
      "Arthritis\n",
      "No     207711\n",
      "Yes    101063\n",
      "Name: count, dtype: int64\n",
      "Sex and its values:\n",
      "Sex\n",
      "Female    160155\n",
      "Male      148619\n",
      "Name: count, dtype: int64\n",
      "Age_Category and its values:\n",
      "Age_Category\n",
      "65-69    33425\n",
      "60-64    32409\n",
      "70-74    31099\n",
      "55-59    28048\n",
      "50-54    25090\n",
      "80+      22269\n",
      "40-44    21587\n",
      "45-49    20963\n",
      "75-79    20699\n",
      "35-39    20598\n",
      "18-24    18670\n",
      "30-34    18425\n",
      "25-29    15492\n",
      "Name: count, dtype: int64\n",
      "Smoking_History and its values:\n",
      "Smoking_History\n",
      "No     183516\n",
      "Yes    125258\n",
      "Name: count, dtype: int64\n"
     ]
    },
    {
     "data": {
      "text/plain": [
       "308774"
      ]
     },
     "execution_count": 15,
     "metadata": {},
     "output_type": "execute_result"
    }
   ],
   "source": [
    "for column in cat_data.columns:\n",
    "    print(f'{column} and its values:\\n{cat_data[column].value_counts()}')\n",
    "\n",
    "cat_data.value_counts().sum()"
   ]
  },
  {
   "cell_type": "markdown",
   "id": "bb4c1dfb-e901-48b9-881f-4d022a83917e",
   "metadata": {},
   "source": [
    "Some of the classes are unbalanced so it may be a problem when training the model"
   ]
  },
  {
   "cell_type": "markdown",
   "id": "acbff65e-1191-46f3-bc88-bbd766d6dff3",
   "metadata": {},
   "source": [
    "## Preprocessing"
   ]
  },
  {
   "cell_type": "markdown",
   "id": "e81d0d01-cd20-4cf9-aeac-c078cb8118ab",
   "metadata": {},
   "source": [
    "First we process the numerical data"
   ]
  },
  {
   "cell_type": "code",
   "execution_count": 16,
   "id": "bf22cef2-e51c-492d-b380-01bf093ce8a0",
   "metadata": {},
   "outputs": [],
   "source": [
    "scaler = StandardScaler()\n",
    "num_features = data.select_dtypes(exclude=['object']).columns\n",
    "data[num_features] = scaler.fit_transform(data[num_features])"
   ]
  },
  {
   "cell_type": "markdown",
   "id": "c2d5a3b4-1cde-4832-a3b2-a556c395ed0f",
   "metadata": {},
   "source": [
    "First we process the categorical data with ordinal values"
   ]
  },
  {
   "cell_type": "code",
   "execution_count": 17,
   "id": "75c12455-aaee-4b1c-b034-9def714f439e",
   "metadata": {},
   "outputs": [
    {
     "data": {
      "text/plain": [
       "{'General_Health': array(['Poor', 'Very Good', 'Good', 'Fair', 'Excellent'], dtype=object),\n",
       " 'Checkup': array(['Within the past 2 years', 'Within the past year',\n",
       "        '5 or more years ago', 'Within the past 5 years', 'Never'],\n",
       "       dtype=object),\n",
       " 'Age_Category': array(['70-74', '60-64', '75-79', '80+', '65-69', '50-54', '45-49',\n",
       "        '18-24', '30-34', '55-59', '35-39', '40-44', '25-29'], dtype=object),\n",
       " 'Diabetes': array(['No', 'Yes', 'No, pre-diabetes or borderline diabetes',\n",
       "        'Yes, but female told only during pregnancy'], dtype=object)}"
      ]
     },
     "execution_count": 17,
     "metadata": {},
     "output_type": "execute_result"
    }
   ],
   "source": [
    "ordinal_features = ['General_Health','Checkup','Age_Category','Diabetes']\n",
    "dict = {}\n",
    "for column in ordinal_features:\n",
    "    dict[column] = data[column].unique()\n",
    "dict"
   ]
  },
  {
   "cell_type": "code",
   "execution_count": 18,
   "id": "5265180d-0056-4c0f-be24-c3db92c6ba25",
   "metadata": {},
   "outputs": [],
   "source": [
    "general_health_sorted = ['Poor','Fair','Good','Very Good','Excellent']\n",
    "checkup_sorted = ['Never','5 or more years ago','Within the past 5 years','Within the past 2 years','Within the past year']\n",
    "diabetes_sorted = ['Yes','No, pre-diabetes or borderline diabetes','Yes, but female told only during pregnancy','No']\n",
    "age_category_sorted = ['18-24','25-29','30-34','35-39','40-44','45-49','50-54','55-59','60-64','65-69','70-74','75-79', '80+']   "
   ]
  },
  {
   "cell_type": "code",
   "execution_count": 19,
   "id": "f0024b8e-613e-43fd-bf34-33c3ccc7be40",
   "metadata": {},
   "outputs": [],
   "source": [
    "data['General_Health'] = OrdinalEncoder(categories=[general_health_sorted]).fit_transform(data[['General_Health']])\n",
    "data['Checkup'] = OrdinalEncoder(categories=[checkup_sorted]).fit_transform(data[['Checkup']])\n",
    "data['Diabetes'] = OrdinalEncoder(categories=[diabetes_sorted]).fit_transform(data[['Diabetes']])\n",
    "data['Age_Category'] = OrdinalEncoder(categories=[age_category_sorted]).fit_transform(data[['Age_Category']])"
   ]
  },
  {
   "cell_type": "code",
   "execution_count": 20,
   "id": "2295028b-0f5e-494d-995d-eae3ab3d6c89",
   "metadata": {},
   "outputs": [
    {
     "name": "stderr",
     "output_type": "stream",
     "text": [
      "/home/nachmz42/.pyenv/versions/3.10.6/envs/mediml/lib/python3.10/site-packages/sklearn/preprocessing/_encoders.py:972: FutureWarning: `sparse` was renamed to `sparse_output` in version 1.2 and will be removed in 1.4. `sparse_output` is ignored unless you leave `sparse` to its default value.\n",
      "  warnings.warn(\n"
     ]
    }
   ],
   "source": [
    "ohe = OneHotEncoder(drop='if_binary')\n",
    "\n",
    "not_ordinal_features = [e for e in data.select_dtypes(include=['object']) if e not in ordinal_features]\n",
    "\n",
    "ohe = OneHotEncoder(drop='if_binary', sparse=False)  # Añade 'sparse=False' para obtener una matriz densa\n",
    "transformed_features = ohe.fit_transform(data[not_ordinal_features])\n",
    "\n",
    "# Obtén los nombres de las columnas transformadas\n",
    "column_names = ohe.get_feature_names_out(input_features=not_ordinal_features)\n",
    "\n",
    "# Crear un DataFrame con las características transformadas y los nombres de las columnas\n",
    "transformed_df = pd.DataFrame(transformed_features, columns=column_names)\n",
    "\n",
    "# Elimina las características originales del DataFrame X\n",
    "data = data.drop(columns=not_ordinal_features)\n",
    "\n",
    "# Concatena el DataFrame original con el DataFrame de características transformadas\n",
    "data = pd.concat([data, transformed_df], axis=1)\n",
    "\n",
    "\n",
    "\n"
   ]
  },
  {
   "cell_type": "markdown",
   "id": "56a145d3-c10f-49a0-b259-a1cff3bcfcd9",
   "metadata": {},
   "source": [
    "Now we split the data into train, validation and test. We have a lot of data so we can select a test_size of 0.15."
   ]
  },
  {
   "cell_type": "code",
   "execution_count": 21,
   "id": "fb7fa4e2-5393-44f1-8e9f-6a4e7305257c",
   "metadata": {},
   "outputs": [
    {
     "data": {
      "text/plain": [
       "(308694, 1)"
      ]
     },
     "execution_count": 21,
     "metadata": {},
     "output_type": "execute_result"
    }
   ],
   "source": [
    "data.dropna(inplace=True)\n",
    "X = data.drop(columns=['Heart_Disease_Yes'],axis=1)\n",
    "y = data[['Heart_Disease_Yes']]\n",
    "X_train_val, X_test, y_train_val, y_test = train_test_split(X, y, test_size=0.15, random_state=42)\n",
    "\n",
    "\n",
    "\n",
    "\n",
    "y.shape"
   ]
  },
  {
   "cell_type": "code",
   "execution_count": 22,
   "id": "5cbd3a66-6ac3-4ba4-b25d-d911480c7b43",
   "metadata": {},
   "outputs": [
    {
     "data": {
      "text/html": [
       "<div>\n",
       "<style scoped>\n",
       "    .dataframe tbody tr th:only-of-type {\n",
       "        vertical-align: middle;\n",
       "    }\n",
       "\n",
       "    .dataframe tbody tr th {\n",
       "        vertical-align: top;\n",
       "    }\n",
       "\n",
       "    .dataframe thead th {\n",
       "        text-align: right;\n",
       "    }\n",
       "</style>\n",
       "<table border=\"1\" class=\"dataframe\">\n",
       "  <thead>\n",
       "    <tr style=\"text-align: right;\">\n",
       "      <th></th>\n",
       "      <th>Heart_Disease_Yes</th>\n",
       "    </tr>\n",
       "  </thead>\n",
       "  <tbody>\n",
       "    <tr>\n",
       "      <th>0</th>\n",
       "      <td>0.0</td>\n",
       "    </tr>\n",
       "    <tr>\n",
       "      <th>1</th>\n",
       "      <td>1.0</td>\n",
       "    </tr>\n",
       "    <tr>\n",
       "      <th>2</th>\n",
       "      <td>0.0</td>\n",
       "    </tr>\n",
       "    <tr>\n",
       "      <th>3</th>\n",
       "      <td>1.0</td>\n",
       "    </tr>\n",
       "    <tr>\n",
       "      <th>4</th>\n",
       "      <td>0.0</td>\n",
       "    </tr>\n",
       "    <tr>\n",
       "      <th>...</th>\n",
       "      <td>...</td>\n",
       "    </tr>\n",
       "    <tr>\n",
       "      <th>308769</th>\n",
       "      <td>0.0</td>\n",
       "    </tr>\n",
       "    <tr>\n",
       "      <th>308770</th>\n",
       "      <td>0.0</td>\n",
       "    </tr>\n",
       "    <tr>\n",
       "      <th>308771</th>\n",
       "      <td>0.0</td>\n",
       "    </tr>\n",
       "    <tr>\n",
       "      <th>308772</th>\n",
       "      <td>0.0</td>\n",
       "    </tr>\n",
       "    <tr>\n",
       "      <th>308773</th>\n",
       "      <td>0.0</td>\n",
       "    </tr>\n",
       "  </tbody>\n",
       "</table>\n",
       "<p>308694 rows × 1 columns</p>\n",
       "</div>"
      ],
      "text/plain": [
       "        Heart_Disease_Yes\n",
       "0                     0.0\n",
       "1                     1.0\n",
       "2                     0.0\n",
       "3                     1.0\n",
       "4                     0.0\n",
       "...                   ...\n",
       "308769                0.0\n",
       "308770                0.0\n",
       "308771                0.0\n",
       "308772                0.0\n",
       "308773                0.0\n",
       "\n",
       "[308694 rows x 1 columns]"
      ]
     },
     "execution_count": 22,
     "metadata": {},
     "output_type": "execute_result"
    }
   ],
   "source": [
    "y"
   ]
  },
  {
   "cell_type": "code",
   "execution_count": 23,
   "id": "84c1539b-ef7f-413d-87e1-fd788bf03a14",
   "metadata": {},
   "outputs": [
    {
     "data": {
      "text/html": [
       "<div>\n",
       "<style scoped>\n",
       "    .dataframe tbody tr th:only-of-type {\n",
       "        vertical-align: middle;\n",
       "    }\n",
       "\n",
       "    .dataframe tbody tr th {\n",
       "        vertical-align: top;\n",
       "    }\n",
       "\n",
       "    .dataframe thead th {\n",
       "        text-align: right;\n",
       "    }\n",
       "</style>\n",
       "<table border=\"1\" class=\"dataframe\">\n",
       "  <thead>\n",
       "    <tr style=\"text-align: right;\">\n",
       "      <th></th>\n",
       "      <th>General_Health</th>\n",
       "      <th>Checkup</th>\n",
       "      <th>Diabetes</th>\n",
       "      <th>Age_Category</th>\n",
       "      <th>Height_(cm)</th>\n",
       "      <th>Weight_(kg)</th>\n",
       "      <th>Alcohol_Consumption</th>\n",
       "      <th>Fruit_Consumption</th>\n",
       "      <th>Green_Vegetables_Consumption</th>\n",
       "      <th>FriedPotato_Consumption</th>\n",
       "      <th>Exercise_Yes</th>\n",
       "      <th>Skin_Cancer_Yes</th>\n",
       "      <th>Other_Cancer_Yes</th>\n",
       "      <th>Depression_Yes</th>\n",
       "      <th>Arthritis_Yes</th>\n",
       "      <th>Sex_Male</th>\n",
       "      <th>Smoking_History_Yes</th>\n",
       "    </tr>\n",
       "  </thead>\n",
       "  <tbody>\n",
       "    <tr>\n",
       "      <th>0</th>\n",
       "      <td>0.0</td>\n",
       "      <td>3.0</td>\n",
       "      <td>3.0</td>\n",
       "      <td>10.0</td>\n",
       "      <td>-1.934170</td>\n",
       "      <td>-2.386099</td>\n",
       "      <td>-0.621621</td>\n",
       "      <td>0.006661</td>\n",
       "      <td>0.059656</td>\n",
       "      <td>0.664362</td>\n",
       "      <td>0.0</td>\n",
       "      <td>0.0</td>\n",
       "      <td>0.0</td>\n",
       "      <td>0.0</td>\n",
       "      <td>1.0</td>\n",
       "      <td>0.0</td>\n",
       "      <td>1.0</td>\n",
       "    </tr>\n",
       "    <tr>\n",
       "      <th>1</th>\n",
       "      <td>3.0</td>\n",
       "      <td>4.0</td>\n",
       "      <td>0.0</td>\n",
       "      <td>10.0</td>\n",
       "      <td>-0.526833</td>\n",
       "      <td>-0.303608</td>\n",
       "      <td>-0.621621</td>\n",
       "      <td>0.006661</td>\n",
       "      <td>-1.012235</td>\n",
       "      <td>-0.267624</td>\n",
       "      <td>0.0</td>\n",
       "      <td>0.0</td>\n",
       "      <td>0.0</td>\n",
       "      <td>0.0</td>\n",
       "      <td>0.0</td>\n",
       "      <td>0.0</td>\n",
       "      <td>0.0</td>\n",
       "    </tr>\n",
       "    <tr>\n",
       "      <th>2</th>\n",
       "      <td>3.0</td>\n",
       "      <td>4.0</td>\n",
       "      <td>0.0</td>\n",
       "      <td>8.0</td>\n",
       "      <td>-0.714478</td>\n",
       "      <td>0.227673</td>\n",
       "      <td>-0.133842</td>\n",
       "      <td>-0.716876</td>\n",
       "      <td>-0.811255</td>\n",
       "      <td>1.130355</td>\n",
       "      <td>1.0</td>\n",
       "      <td>0.0</td>\n",
       "      <td>0.0</td>\n",
       "      <td>0.0</td>\n",
       "      <td>0.0</td>\n",
       "      <td>0.0</td>\n",
       "      <td>0.0</td>\n",
       "    </tr>\n",
       "    <tr>\n",
       "      <th>3</th>\n",
       "      <td>0.0</td>\n",
       "      <td>4.0</td>\n",
       "      <td>0.0</td>\n",
       "      <td>11.0</td>\n",
       "      <td>0.880503</td>\n",
       "      <td>0.461456</td>\n",
       "      <td>-0.621621</td>\n",
       "      <td>0.006661</td>\n",
       "      <td>0.997561</td>\n",
       "      <td>0.198369</td>\n",
       "      <td>1.0</td>\n",
       "      <td>0.0</td>\n",
       "      <td>0.0</td>\n",
       "      <td>0.0</td>\n",
       "      <td>0.0</td>\n",
       "      <td>1.0</td>\n",
       "      <td>0.0</td>\n",
       "    </tr>\n",
       "    <tr>\n",
       "      <th>4</th>\n",
       "      <td>2.0</td>\n",
       "      <td>4.0</td>\n",
       "      <td>3.0</td>\n",
       "      <td>12.0</td>\n",
       "      <td>1.912549</td>\n",
       "      <td>0.227673</td>\n",
       "      <td>-0.621621</td>\n",
       "      <td>-0.877663</td>\n",
       "      <td>-0.744262</td>\n",
       "      <td>-0.733617</td>\n",
       "      <td>0.0</td>\n",
       "      <td>0.0</td>\n",
       "      <td>0.0</td>\n",
       "      <td>0.0</td>\n",
       "      <td>0.0</td>\n",
       "      <td>1.0</td>\n",
       "      <td>1.0</td>\n",
       "    </tr>\n",
       "    <tr>\n",
       "      <th>...</th>\n",
       "      <td>...</td>\n",
       "      <td>...</td>\n",
       "      <td>...</td>\n",
       "      <td>...</td>\n",
       "      <td>...</td>\n",
       "      <td>...</td>\n",
       "      <td>...</td>\n",
       "      <td>...</td>\n",
       "      <td>...</td>\n",
       "      <td>...</td>\n",
       "      <td>...</td>\n",
       "      <td>...</td>\n",
       "      <td>...</td>\n",
       "      <td>...</td>\n",
       "      <td>...</td>\n",
       "      <td>...</td>\n",
       "      <td>...</td>\n",
       "    </tr>\n",
       "    <tr>\n",
       "      <th>308769</th>\n",
       "      <td>3.0</td>\n",
       "      <td>4.0</td>\n",
       "      <td>3.0</td>\n",
       "      <td>8.0</td>\n",
       "      <td>-1.746525</td>\n",
       "      <td>-0.176175</td>\n",
       "      <td>-0.621621</td>\n",
       "      <td>-0.877663</td>\n",
       "      <td>0.997561</td>\n",
       "      <td>-0.617119</td>\n",
       "      <td>1.0</td>\n",
       "      <td>0.0</td>\n",
       "      <td>0.0</td>\n",
       "      <td>0.0</td>\n",
       "      <td>0.0</td>\n",
       "      <td>1.0</td>\n",
       "      <td>0.0</td>\n",
       "    </tr>\n",
       "    <tr>\n",
       "      <th>308770</th>\n",
       "      <td>2.0</td>\n",
       "      <td>4.0</td>\n",
       "      <td>3.0</td>\n",
       "      <td>9.0</td>\n",
       "      <td>1.631082</td>\n",
       "      <td>0.014973</td>\n",
       "      <td>0.597828</td>\n",
       "      <td>-0.395304</td>\n",
       "      <td>0.997561</td>\n",
       "      <td>-0.733617</td>\n",
       "      <td>1.0</td>\n",
       "      <td>0.0</td>\n",
       "      <td>0.0</td>\n",
       "      <td>0.0</td>\n",
       "      <td>0.0</td>\n",
       "      <td>1.0</td>\n",
       "      <td>0.0</td>\n",
       "    </tr>\n",
       "    <tr>\n",
       "      <th>308771</th>\n",
       "      <td>3.0</td>\n",
       "      <td>4.0</td>\n",
       "      <td>3.0</td>\n",
       "      <td>12.0</td>\n",
       "      <td>0.411391</td>\n",
       "      <td>0.163957</td>\n",
       "      <td>-0.621621</td>\n",
       "      <td>0.006661</td>\n",
       "      <td>0.997561</td>\n",
       "      <td>-0.500620</td>\n",
       "      <td>1.0</td>\n",
       "      <td>0.0</td>\n",
       "      <td>0.0</td>\n",
       "      <td>1.0</td>\n",
       "      <td>0.0</td>\n",
       "      <td>0.0</td>\n",
       "      <td>1.0</td>\n",
       "    </tr>\n",
       "    <tr>\n",
       "      <th>308772</th>\n",
       "      <td>3.0</td>\n",
       "      <td>4.0</td>\n",
       "      <td>3.0</td>\n",
       "      <td>1.0</td>\n",
       "      <td>0.692858</td>\n",
       "      <td>0.121323</td>\n",
       "      <td>-0.621621</td>\n",
       "      <td>-0.716876</td>\n",
       "      <td>-0.476289</td>\n",
       "      <td>-0.267624</td>\n",
       "      <td>1.0</td>\n",
       "      <td>0.0</td>\n",
       "      <td>0.0</td>\n",
       "      <td>0.0</td>\n",
       "      <td>0.0</td>\n",
       "      <td>1.0</td>\n",
       "      <td>0.0</td>\n",
       "    </tr>\n",
       "    <tr>\n",
       "      <th>308773</th>\n",
       "      <td>3.0</td>\n",
       "      <td>4.0</td>\n",
       "      <td>3.0</td>\n",
       "      <td>5.0</td>\n",
       "      <td>-0.714478</td>\n",
       "      <td>-0.431040</td>\n",
       "      <td>2.305058</td>\n",
       "      <td>-1.199235</td>\n",
       "      <td>0.997561</td>\n",
       "      <td>-0.733617</td>\n",
       "      <td>1.0</td>\n",
       "      <td>0.0</td>\n",
       "      <td>0.0</td>\n",
       "      <td>0.0</td>\n",
       "      <td>0.0</td>\n",
       "      <td>0.0</td>\n",
       "      <td>0.0</td>\n",
       "    </tr>\n",
       "  </tbody>\n",
       "</table>\n",
       "<p>308694 rows × 17 columns</p>\n",
       "</div>"
      ],
      "text/plain": [
       "        General_Health  Checkup  Diabetes  Age_Category  Height_(cm)  \\\n",
       "0                  0.0      3.0       3.0          10.0    -1.934170   \n",
       "1                  3.0      4.0       0.0          10.0    -0.526833   \n",
       "2                  3.0      4.0       0.0           8.0    -0.714478   \n",
       "3                  0.0      4.0       0.0          11.0     0.880503   \n",
       "4                  2.0      4.0       3.0          12.0     1.912549   \n",
       "...                ...      ...       ...           ...          ...   \n",
       "308769             3.0      4.0       3.0           8.0    -1.746525   \n",
       "308770             2.0      4.0       3.0           9.0     1.631082   \n",
       "308771             3.0      4.0       3.0          12.0     0.411391   \n",
       "308772             3.0      4.0       3.0           1.0     0.692858   \n",
       "308773             3.0      4.0       3.0           5.0    -0.714478   \n",
       "\n",
       "        Weight_(kg)  Alcohol_Consumption  Fruit_Consumption  \\\n",
       "0         -2.386099            -0.621621           0.006661   \n",
       "1         -0.303608            -0.621621           0.006661   \n",
       "2          0.227673            -0.133842          -0.716876   \n",
       "3          0.461456            -0.621621           0.006661   \n",
       "4          0.227673            -0.621621          -0.877663   \n",
       "...             ...                  ...                ...   \n",
       "308769    -0.176175            -0.621621          -0.877663   \n",
       "308770     0.014973             0.597828          -0.395304   \n",
       "308771     0.163957            -0.621621           0.006661   \n",
       "308772     0.121323            -0.621621          -0.716876   \n",
       "308773    -0.431040             2.305058          -1.199235   \n",
       "\n",
       "        Green_Vegetables_Consumption  FriedPotato_Consumption  Exercise_Yes  \\\n",
       "0                           0.059656                 0.664362           0.0   \n",
       "1                          -1.012235                -0.267624           0.0   \n",
       "2                          -0.811255                 1.130355           1.0   \n",
       "3                           0.997561                 0.198369           1.0   \n",
       "4                          -0.744262                -0.733617           0.0   \n",
       "...                              ...                      ...           ...   \n",
       "308769                      0.997561                -0.617119           1.0   \n",
       "308770                      0.997561                -0.733617           1.0   \n",
       "308771                      0.997561                -0.500620           1.0   \n",
       "308772                     -0.476289                -0.267624           1.0   \n",
       "308773                      0.997561                -0.733617           1.0   \n",
       "\n",
       "        Skin_Cancer_Yes  Other_Cancer_Yes  Depression_Yes  Arthritis_Yes  \\\n",
       "0                   0.0               0.0             0.0            1.0   \n",
       "1                   0.0               0.0             0.0            0.0   \n",
       "2                   0.0               0.0             0.0            0.0   \n",
       "3                   0.0               0.0             0.0            0.0   \n",
       "4                   0.0               0.0             0.0            0.0   \n",
       "...                 ...               ...             ...            ...   \n",
       "308769              0.0               0.0             0.0            0.0   \n",
       "308770              0.0               0.0             0.0            0.0   \n",
       "308771              0.0               0.0             1.0            0.0   \n",
       "308772              0.0               0.0             0.0            0.0   \n",
       "308773              0.0               0.0             0.0            0.0   \n",
       "\n",
       "        Sex_Male  Smoking_History_Yes  \n",
       "0            0.0                  1.0  \n",
       "1            0.0                  0.0  \n",
       "2            0.0                  0.0  \n",
       "3            1.0                  0.0  \n",
       "4            1.0                  1.0  \n",
       "...          ...                  ...  \n",
       "308769       1.0                  0.0  \n",
       "308770       1.0                  0.0  \n",
       "308771       0.0                  1.0  \n",
       "308772       1.0                  0.0  \n",
       "308773       0.0                  0.0  \n",
       "\n",
       "[308694 rows x 17 columns]"
      ]
     },
     "execution_count": 23,
     "metadata": {},
     "output_type": "execute_result"
    }
   ],
   "source": [
    "X"
   ]
  },
  {
   "cell_type": "markdown",
   "id": "de47a0d3-9343-4d2c-b4a9-391adda2fe12",
   "metadata": {},
   "source": [
    "We repreat the split in order to get a validation set"
   ]
  },
  {
   "cell_type": "code",
   "execution_count": 24,
   "id": "803288f7-4b6a-4467-b09d-acac024c21d6",
   "metadata": {},
   "outputs": [],
   "source": [
    "X_train, X_val, y_train, y_val = train_test_split(X_train_val, y_train_val, test_size=0.2, random_state=42)"
   ]
  },
  {
   "cell_type": "markdown",
   "id": "18ec4a5d-39e2-4906-8210-dd5c8dfbd1a1",
   "metadata": {},
   "source": [
    "The date has been minimally preprocesed so we can try a model now"
   ]
  },
  {
   "cell_type": "code",
   "execution_count": 25,
   "id": "fb301beb-200e-4cd5-a666-6a3fd9e2ffb2",
   "metadata": {},
   "outputs": [],
   "source": [
    "clf = DecisionTreeClassifier(max_depth=5, min_samples_split=2, min_samples_leaf=1)"
   ]
  },
  {
   "cell_type": "code",
   "execution_count": 26,
   "id": "915ac475-6627-4bec-aa49-ab3abc32d34c",
   "metadata": {},
   "outputs": [
    {
     "name": "stderr",
     "output_type": "stream",
     "text": [
      "/home/nachmz42/.pyenv/versions/3.10.6/envs/mediml/lib/python3.10/site-packages/sklearn/metrics/_classification.py:1469: UndefinedMetricWarning: Precision is ill-defined and being set to 0.0 due to no predicted samples. Use `zero_division` parameter to control this behavior.\n",
      "  _warn_prf(average, modifier, msg_start, len(result))\n",
      "/home/nachmz42/.pyenv/versions/3.10.6/envs/mediml/lib/python3.10/site-packages/sklearn/metrics/_classification.py:1469: UndefinedMetricWarning: Precision is ill-defined and being set to 0.0 due to no predicted samples. Use `zero_division` parameter to control this behavior.\n",
      "  _warn_prf(average, modifier, msg_start, len(result))\n",
      "/home/nachmz42/.pyenv/versions/3.10.6/envs/mediml/lib/python3.10/site-packages/sklearn/metrics/_classification.py:1469: UndefinedMetricWarning: Precision is ill-defined and being set to 0.0 due to no predicted samples. Use `zero_division` parameter to control this behavior.\n",
      "  _warn_prf(average, modifier, msg_start, len(result))\n",
      "/home/nachmz42/.pyenv/versions/3.10.6/envs/mediml/lib/python3.10/site-packages/sklearn/metrics/_classification.py:1469: UndefinedMetricWarning: Precision is ill-defined and being set to 0.0 due to no predicted samples. Use `zero_division` parameter to control this behavior.\n",
      "  _warn_prf(average, modifier, msg_start, len(result))\n",
      "/home/nachmz42/.pyenv/versions/3.10.6/envs/mediml/lib/python3.10/site-packages/sklearn/metrics/_classification.py:1469: UndefinedMetricWarning: Precision is ill-defined and being set to 0.0 due to no predicted samples. Use `zero_division` parameter to control this behavior.\n",
      "  _warn_prf(average, modifier, msg_start, len(result))\n"
     ]
    }
   ],
   "source": [
    "scoring = ['accuracy', 'precision', 'recall', 'f1', 'roc_auc']\n",
    "scores = cross_validate(clf, X_train, y_train, scoring=scoring, cv=5)"
   ]
  },
  {
   "cell_type": "code",
   "execution_count": 27,
   "id": "fc6163dc-0533-4fce-942c-39fc64ed953c",
   "metadata": {},
   "outputs": [
    {
     "data": {
      "text/plain": [
       "{'fit_time': array([0.2212553 , 0.21373916, 0.2197473 , 0.22052145, 0.2177546 ]),\n",
       " 'score_time': array([0.05611873, 0.05763054, 0.05741048, 0.05720949, 0.05682611]),\n",
       " 'test_accuracy': array([0.91982469, 0.91982278, 0.91982278, 0.91982278, 0.9198466 ]),\n",
       " 'test_precision': array([0., 0., 0., 0., 0.]),\n",
       " 'test_recall': array([0., 0., 0., 0., 0.]),\n",
       " 'test_f1': array([0., 0., 0., 0., 0.]),\n",
       " 'test_roc_auc': array([0.72547267, 0.71365147, 0.71003645, 0.72517378, 0.72007827])}"
      ]
     },
     "execution_count": 27,
     "metadata": {},
     "output_type": "execute_result"
    }
   ],
   "source": [
    "scores\n"
   ]
  },
  {
   "cell_type": "code",
   "execution_count": 28,
   "id": "546deeec-abd1-48ce-a24b-783e2ece26e2",
   "metadata": {},
   "outputs": [
    {
     "data": {
      "text/html": [
       "<style>#sk-container-id-1 {color: black;}#sk-container-id-1 pre{padding: 0;}#sk-container-id-1 div.sk-toggleable {background-color: white;}#sk-container-id-1 label.sk-toggleable__label {cursor: pointer;display: block;width: 100%;margin-bottom: 0;padding: 0.3em;box-sizing: border-box;text-align: center;}#sk-container-id-1 label.sk-toggleable__label-arrow:before {content: \"▸\";float: left;margin-right: 0.25em;color: #696969;}#sk-container-id-1 label.sk-toggleable__label-arrow:hover:before {color: black;}#sk-container-id-1 div.sk-estimator:hover label.sk-toggleable__label-arrow:before {color: black;}#sk-container-id-1 div.sk-toggleable__content {max-height: 0;max-width: 0;overflow: hidden;text-align: left;background-color: #f0f8ff;}#sk-container-id-1 div.sk-toggleable__content pre {margin: 0.2em;color: black;border-radius: 0.25em;background-color: #f0f8ff;}#sk-container-id-1 input.sk-toggleable__control:checked~div.sk-toggleable__content {max-height: 200px;max-width: 100%;overflow: auto;}#sk-container-id-1 input.sk-toggleable__control:checked~label.sk-toggleable__label-arrow:before {content: \"▾\";}#sk-container-id-1 div.sk-estimator input.sk-toggleable__control:checked~label.sk-toggleable__label {background-color: #d4ebff;}#sk-container-id-1 div.sk-label input.sk-toggleable__control:checked~label.sk-toggleable__label {background-color: #d4ebff;}#sk-container-id-1 input.sk-hidden--visually {border: 0;clip: rect(1px 1px 1px 1px);clip: rect(1px, 1px, 1px, 1px);height: 1px;margin: -1px;overflow: hidden;padding: 0;position: absolute;width: 1px;}#sk-container-id-1 div.sk-estimator {font-family: monospace;background-color: #f0f8ff;border: 1px dotted black;border-radius: 0.25em;box-sizing: border-box;margin-bottom: 0.5em;}#sk-container-id-1 div.sk-estimator:hover {background-color: #d4ebff;}#sk-container-id-1 div.sk-parallel-item::after {content: \"\";width: 100%;border-bottom: 1px solid gray;flex-grow: 1;}#sk-container-id-1 div.sk-label:hover label.sk-toggleable__label {background-color: #d4ebff;}#sk-container-id-1 div.sk-serial::before {content: \"\";position: absolute;border-left: 1px solid gray;box-sizing: border-box;top: 0;bottom: 0;left: 50%;z-index: 0;}#sk-container-id-1 div.sk-serial {display: flex;flex-direction: column;align-items: center;background-color: white;padding-right: 0.2em;padding-left: 0.2em;position: relative;}#sk-container-id-1 div.sk-item {position: relative;z-index: 1;}#sk-container-id-1 div.sk-parallel {display: flex;align-items: stretch;justify-content: center;background-color: white;position: relative;}#sk-container-id-1 div.sk-item::before, #sk-container-id-1 div.sk-parallel-item::before {content: \"\";position: absolute;border-left: 1px solid gray;box-sizing: border-box;top: 0;bottom: 0;left: 50%;z-index: -1;}#sk-container-id-1 div.sk-parallel-item {display: flex;flex-direction: column;z-index: 1;position: relative;background-color: white;}#sk-container-id-1 div.sk-parallel-item:first-child::after {align-self: flex-end;width: 50%;}#sk-container-id-1 div.sk-parallel-item:last-child::after {align-self: flex-start;width: 50%;}#sk-container-id-1 div.sk-parallel-item:only-child::after {width: 0;}#sk-container-id-1 div.sk-dashed-wrapped {border: 1px dashed gray;margin: 0 0.4em 0.5em 0.4em;box-sizing: border-box;padding-bottom: 0.4em;background-color: white;}#sk-container-id-1 div.sk-label label {font-family: monospace;font-weight: bold;display: inline-block;line-height: 1.2em;}#sk-container-id-1 div.sk-label-container {text-align: center;}#sk-container-id-1 div.sk-container {/* jupyter's `normalize.less` sets `[hidden] { display: none; }` but bootstrap.min.css set `[hidden] { display: none !important; }` so we also need the `!important` here to be able to override the default hidden behavior on the sphinx rendered scikit-learn.org. See: https://github.com/scikit-learn/scikit-learn/issues/21755 */display: inline-block !important;position: relative;}#sk-container-id-1 div.sk-text-repr-fallback {display: none;}</style><div id=\"sk-container-id-1\" class=\"sk-top-container\"><div class=\"sk-text-repr-fallback\"><pre>DecisionTreeClassifier(max_depth=5)</pre><b>In a Jupyter environment, please rerun this cell to show the HTML representation or trust the notebook. <br />On GitHub, the HTML representation is unable to render, please try loading this page with nbviewer.org.</b></div><div class=\"sk-container\" hidden><div class=\"sk-item\"><div class=\"sk-estimator sk-toggleable\"><input class=\"sk-toggleable__control sk-hidden--visually\" id=\"sk-estimator-id-1\" type=\"checkbox\" checked><label for=\"sk-estimator-id-1\" class=\"sk-toggleable__label sk-toggleable__label-arrow\">DecisionTreeClassifier</label><div class=\"sk-toggleable__content\"><pre>DecisionTreeClassifier(max_depth=5)</pre></div></div></div></div></div>"
      ],
      "text/plain": [
       "DecisionTreeClassifier(max_depth=5)"
      ]
     },
     "execution_count": 28,
     "metadata": {},
     "output_type": "execute_result"
    }
   ],
   "source": [
    "clf.fit(X_train,y_train)"
   ]
  },
  {
   "cell_type": "code",
   "execution_count": 29,
   "id": "9c3cdc4e-f8aa-478d-903d-6b60fd974b3f",
   "metadata": {},
   "outputs": [],
   "source": [
    "y_val_pred = pd.DataFrame(pd.Series(clf.predict(X_val),name='Heart_Disease_Yes'))"
   ]
  },
  {
   "cell_type": "code",
   "execution_count": 30,
   "id": "4f1a36ec-2242-462e-85ab-658e1e56dac4",
   "metadata": {},
   "outputs": [
    {
     "data": {
      "text/html": [
       "<div>\n",
       "<style scoped>\n",
       "    .dataframe tbody tr th:only-of-type {\n",
       "        vertical-align: middle;\n",
       "    }\n",
       "\n",
       "    .dataframe tbody tr th {\n",
       "        vertical-align: top;\n",
       "    }\n",
       "\n",
       "    .dataframe thead th {\n",
       "        text-align: right;\n",
       "    }\n",
       "</style>\n",
       "<table border=\"1\" class=\"dataframe\">\n",
       "  <thead>\n",
       "    <tr style=\"text-align: right;\">\n",
       "      <th></th>\n",
       "      <th>Heart_Disease_Yes</th>\n",
       "    </tr>\n",
       "  </thead>\n",
       "  <tbody>\n",
       "    <tr>\n",
       "      <th>0</th>\n",
       "      <td>0.0</td>\n",
       "    </tr>\n",
       "    <tr>\n",
       "      <th>1</th>\n",
       "      <td>0.0</td>\n",
       "    </tr>\n",
       "    <tr>\n",
       "      <th>2</th>\n",
       "      <td>0.0</td>\n",
       "    </tr>\n",
       "    <tr>\n",
       "      <th>3</th>\n",
       "      <td>0.0</td>\n",
       "    </tr>\n",
       "    <tr>\n",
       "      <th>4</th>\n",
       "      <td>0.0</td>\n",
       "    </tr>\n",
       "    <tr>\n",
       "      <th>...</th>\n",
       "      <td>...</td>\n",
       "    </tr>\n",
       "    <tr>\n",
       "      <th>52473</th>\n",
       "      <td>0.0</td>\n",
       "    </tr>\n",
       "    <tr>\n",
       "      <th>52474</th>\n",
       "      <td>0.0</td>\n",
       "    </tr>\n",
       "    <tr>\n",
       "      <th>52475</th>\n",
       "      <td>0.0</td>\n",
       "    </tr>\n",
       "    <tr>\n",
       "      <th>52476</th>\n",
       "      <td>0.0</td>\n",
       "    </tr>\n",
       "    <tr>\n",
       "      <th>52477</th>\n",
       "      <td>0.0</td>\n",
       "    </tr>\n",
       "  </tbody>\n",
       "</table>\n",
       "<p>52478 rows × 1 columns</p>\n",
       "</div>"
      ],
      "text/plain": [
       "       Heart_Disease_Yes\n",
       "0                    0.0\n",
       "1                    0.0\n",
       "2                    0.0\n",
       "3                    0.0\n",
       "4                    0.0\n",
       "...                  ...\n",
       "52473                0.0\n",
       "52474                0.0\n",
       "52475                0.0\n",
       "52476                0.0\n",
       "52477                0.0\n",
       "\n",
       "[52478 rows x 1 columns]"
      ]
     },
     "execution_count": 30,
     "metadata": {},
     "output_type": "execute_result"
    }
   ],
   "source": [
    "y_val_pred"
   ]
  },
  {
   "cell_type": "code",
   "execution_count": 31,
   "id": "93d0352b-14cf-4025-80df-38b1d8cfed9c",
   "metadata": {},
   "outputs": [],
   "source": [
    "y_val.reset_index(inplace=True,drop=True)"
   ]
  },
  {
   "cell_type": "code",
   "execution_count": 32,
   "id": "097f4cea-76f9-423f-913d-5ebc1cd30d1a",
   "metadata": {},
   "outputs": [
    {
     "data": {
      "text/plain": [
       "pandas.core.frame.DataFrame"
      ]
     },
     "execution_count": 32,
     "metadata": {},
     "output_type": "execute_result"
    }
   ],
   "source": [
    "type(y_val)"
   ]
  },
  {
   "cell_type": "code",
   "execution_count": 33,
   "id": "22b2bb98-dbd7-41cd-adf6-0dab0d8f96e8",
   "metadata": {},
   "outputs": [],
   "source": [
    "# Realiza una comparación elemento a elemento y obtén una serie booleana que indica las diferencias\n",
    "diferencias = y_val_pred != y_val\n",
    "\n",
    "# Cuenta el número de True en la serie de diferencias para obtener la cantidad de datos diferentes\n",
    "cantidad_diferentes = diferencias.sum()"
   ]
  },
  {
   "cell_type": "code",
   "execution_count": 34,
   "id": "e4c8e415-b7c7-4829-b1e2-4c2d5e14780d",
   "metadata": {},
   "outputs": [
    {
     "data": {
      "text/plain": [
       "Heart_Disease_Yes    4333\n",
       "dtype: int64"
      ]
     },
     "execution_count": 34,
     "metadata": {},
     "output_type": "execute_result"
    }
   ],
   "source": [
    "cantidad_diferentes"
   ]
  }
 ],
 "metadata": {
  "kernelspec": {
   "display_name": "Python 3 (ipykernel)",
   "language": "python",
   "name": "python3"
  },
  "language_info": {
   "codemirror_mode": {
    "name": "ipython",
    "version": 3
   },
   "file_extension": ".py",
   "mimetype": "text/x-python",
   "name": "python",
   "nbconvert_exporter": "python",
   "pygments_lexer": "ipython3",
   "version": "3.10.6"
  }
 },
 "nbformat": 4,
 "nbformat_minor": 5
}
